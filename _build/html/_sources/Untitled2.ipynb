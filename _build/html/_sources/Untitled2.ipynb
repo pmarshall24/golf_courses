{
 "cells": [
  {
   "cell_type": "code",
   "execution_count": 1,
   "id": "c363666e-1621-4306-98bb-39ace7e9bd3e",
   "metadata": {},
   "outputs": [],
   "source": [
    "# Import libraries\n",
    "import pandas as pd\n",
    "import os\n",
    "import numpy as np\n",
    "import matplotlib.pyplot as plt\n",
    "import altair as alt\n",
    "import altair_saver "
   ]
  },
  {
   "cell_type": "code",
   "execution_count": 2,
   "id": "3492b510-83c5-4c7f-bc33-1177a6ab86bc",
   "metadata": {},
   "outputs": [
    {
     "data": {
      "text/plain": [
       "'C:\\\\Users\\\\pmarshal\\\\Documents\\\\golf_courses'"
      ]
     },
     "execution_count": 2,
     "metadata": {},
     "output_type": "execute_result"
    }
   ],
   "source": [
    "os.chdir('C://Users/pmarshal/Documents/golf_courses')\n",
    "os.getcwd()"
   ]
  },
  {
   "cell_type": "code",
   "execution_count": 4,
   "id": "f68410c4-4ceb-4213-8bc3-bc2fdd65ccdd",
   "metadata": {},
   "outputs": [
    {
     "data": {
      "text/html": [
       "<div>\n",
       "<style scoped>\n",
       "    .dataframe tbody tr th:only-of-type {\n",
       "        vertical-align: middle;\n",
       "    }\n",
       "\n",
       "    .dataframe tbody tr th {\n",
       "        vertical-align: top;\n",
       "    }\n",
       "\n",
       "    .dataframe thead th {\n",
       "        text-align: right;\n",
       "    }\n",
       "</style>\n",
       "<table border=\"1\" class=\"dataframe\">\n",
       "  <thead>\n",
       "    <tr style=\"text-align: right;\">\n",
       "      <th></th>\n",
       "      <th>course_name</th>\n",
       "      <th>city</th>\n",
       "      <th>prov_state</th>\n",
       "      <th>country</th>\n",
       "      <th>latitude</th>\n",
       "      <th>longitude</th>\n",
       "      <th>year</th>\n",
       "      <th>length</th>\n",
       "      <th>personal_rating</th>\n",
       "      <th>times_played</th>\n",
       "      <th>best_score</th>\n",
       "    </tr>\n",
       "  </thead>\n",
       "  <tbody>\n",
       "    <tr>\n",
       "      <th>0</th>\n",
       "      <td>Grant Lucayan Golf Club -- Reef Course</td>\n",
       "      <td>Freeport</td>\n",
       "      <td>NaN</td>\n",
       "      <td>Bahamas</td>\n",
       "      <td>26.511</td>\n",
       "      <td>-78.652259</td>\n",
       "      <td>1993</td>\n",
       "      <td>18</td>\n",
       "      <td>7.5</td>\n",
       "      <td>1</td>\n",
       "      <td>83</td>\n",
       "    </tr>\n",
       "    <tr>\n",
       "      <th>1</th>\n",
       "      <td>Bahamas Princess -- Ruby</td>\n",
       "      <td>NaN</td>\n",
       "      <td>NaN</td>\n",
       "      <td>Bahamas</td>\n",
       "      <td>26.523</td>\n",
       "      <td>-78.708000</td>\n",
       "      <td>1993</td>\n",
       "      <td>18</td>\n",
       "      <td>8.0</td>\n",
       "      <td>1</td>\n",
       "      <td>80</td>\n",
       "    </tr>\n",
       "    <tr>\n",
       "      <th>2</th>\n",
       "      <td>Bahamas Princess -- Emerald</td>\n",
       "      <td>Freeport</td>\n",
       "      <td>NaN</td>\n",
       "      <td>Bahamas</td>\n",
       "      <td>26.512</td>\n",
       "      <td>-78.701000</td>\n",
       "      <td>1993</td>\n",
       "      <td>18</td>\n",
       "      <td>7.0</td>\n",
       "      <td>1</td>\n",
       "      <td>79</td>\n",
       "    </tr>\n",
       "    <tr>\n",
       "      <th>3</th>\n",
       "      <td>South Ocean Beach GC</td>\n",
       "      <td>New Providence</td>\n",
       "      <td>NaN</td>\n",
       "      <td>Bahamas</td>\n",
       "      <td>25.009</td>\n",
       "      <td>-77.523000</td>\n",
       "      <td>1993</td>\n",
       "      <td>18</td>\n",
       "      <td>7.5</td>\n",
       "      <td>1</td>\n",
       "      <td>76</td>\n",
       "    </tr>\n",
       "    <tr>\n",
       "      <th>4</th>\n",
       "      <td>Mid Ocean GC</td>\n",
       "      <td>NaN</td>\n",
       "      <td>NaN</td>\n",
       "      <td>Bermuda</td>\n",
       "      <td>32.331</td>\n",
       "      <td>-64.694000</td>\n",
       "      <td>1989</td>\n",
       "      <td>18</td>\n",
       "      <td>9.5</td>\n",
       "      <td>1</td>\n",
       "      <td>74</td>\n",
       "    </tr>\n",
       "  </tbody>\n",
       "</table>\n",
       "</div>"
      ],
      "text/plain": [
       "                              course_name            city prov_state  country  \\\n",
       "0  Grant Lucayan Golf Club -- Reef Course        Freeport        NaN  Bahamas   \n",
       "1                Bahamas Princess -- Ruby             NaN        NaN  Bahamas   \n",
       "2             Bahamas Princess -- Emerald        Freeport        NaN  Bahamas   \n",
       "3                    South Ocean Beach GC  New Providence        NaN  Bahamas   \n",
       "4                            Mid Ocean GC             NaN        NaN  Bermuda   \n",
       "\n",
       "   latitude  longitude  year  length  personal_rating times_played best_score  \n",
       "0    26.511 -78.652259  1993      18              7.5            1         83  \n",
       "1    26.523 -78.708000  1993      18              8.0            1         80  \n",
       "2    26.512 -78.701000  1993      18              7.0            1         79  \n",
       "3    25.009 -77.523000  1993      18              7.5            1         76  \n",
       "4    32.331 -64.694000  1989      18              9.5            1         74  "
      ]
     },
     "execution_count": 4,
     "metadata": {},
     "output_type": "execute_result"
    }
   ],
   "source": [
    "course_master = pd.read_csv('master_golf_list.csv')\n",
    "course_master.head()"
   ]
  },
  {
   "cell_type": "code",
   "execution_count": null,
   "id": "65ac5b5d-22de-41c8-b4a1-b7f3eda14b40",
   "metadata": {},
   "outputs": [],
   "source": []
  }
 ],
 "metadata": {
  "kernelspec": {
   "display_name": "Python 3 (ipykernel)",
   "language": "python",
   "name": "python3"
  },
  "language_info": {
   "codemirror_mode": {
    "name": "ipython",
    "version": 3
   },
   "file_extension": ".py",
   "mimetype": "text/x-python",
   "name": "python",
   "nbconvert_exporter": "python",
   "pygments_lexer": "ipython3",
   "version": "3.9.12"
  }
 },
 "nbformat": 4,
 "nbformat_minor": 5
}
